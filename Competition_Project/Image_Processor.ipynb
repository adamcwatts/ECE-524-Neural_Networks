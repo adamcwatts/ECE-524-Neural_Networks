{
 "cells": [
  {
   "cell_type": "code",
   "execution_count": 1,
   "metadata": {
    "pycharm": {
     "name": "#%%\n"
    }
   },
   "outputs": [],
   "source": [
    "import tensorflow as tf\n",
    "from tensorflow import keras\n",
    "from tensorflow.keras.preprocessing.image import load_img, img_to_array, ImageDataGenerator\n",
    "import cv2\n",
    "import numpy as np\n",
    "import pandas as pd\n",
    "import os\n",
    "import seaborn as sns\n",
    "from functools import partial\n",
    "sns.set_context('notebook')\n",
    "import matplotlib.pyplot as plt\n",
    "import cv2\n"
   ]
  },
  {
   "cell_type": "code",
   "execution_count": 2,
   "metadata": {
    "pycharm": {
     "name": "#%%\n"
    }
   },
   "outputs": [],
   "source": [
    "def hist_equal(img):\n",
    "    '''takes image and an output space [0,L] as an input and gives an equalized image(in float) as output'''\n",
    "    if len(img.shape) != 2:\n",
    "        R, G, B = cv2.split(img)\n",
    "        output1_R = cv2.equalizeHist(R)\n",
    "        output1_G = cv2.equalizeHist(G)\n",
    "        output1_B = cv2.equalizeHist(B)\n",
    "        equ = cv2.merge((output1_R, output1_G, output1_B))\n",
    "        return equ"
   ]
  },
  {
   "cell_type": "markdown",
   "metadata": {},
   "source": [
    "#### Load Directories and get file paths"
   ]
  },
  {
   "cell_type": "code",
   "execution_count": 3,
   "metadata": {
    "pycharm": {
     "name": "#%%\n"
    }
   },
   "outputs": [],
   "source": [
    "my_dir = os.getcwd()  # grabs current work dir\n",
    "all_file_paths = os.listdir()  # grabs all items in current work dir\n",
    "\n",
    "data_path = [data for data in all_file_paths if 'traindata' in data.lower()]  # searches for data folder and retrieves\n",
    "\n",
    "picture_folder_path = os.path.join(my_dir, data_path[0])  # joins data folder and current work dir to get picture path\n",
    "picture_folder_path\n",
    "\n",
    "all_pictures = os.listdir(picture_folder_path)  # list of pictures names in folder\n",
    "\n",
    "picture_complete_path = [os.path.join(picture_folder_path, pic) for pic in\n",
    "                         all_pictures]  # complete path to each picture\n",
    "\n",
    "PP_path = os.path.join(my_dir, \"TrainData_PP\")  # PP: Post Processed\n",
    "\n",
    "\n",
    "\n",
    "# split the picture path and return only the OG file name\n",
    "file_names = [picture_complete_path[x].split('TrainData\\\\')[1] for x in range(len(picture_complete_path))]"
   ]
  },
  {
   "cell_type": "markdown",
   "metadata": {},
   "source": [
    "#### Test Files, Load Test Images"
   ]
  },
  {
   "cell_type": "code",
   "execution_count": null,
   "metadata": {},
   "outputs": [],
   "source": [
    "# img_1 = load_img(picture_complete_path[0])\n",
    "# print(\"FIRST IMAGE DETAILS:\", \"\\nClass: \", type(img_1), \"\\nFile Format: \", img_1.format,\n",
    "#       \"\\nImage type: \", img_1.mode, '\\nImage Size:', img_1.size)\n",
    "# print()\n",
    "\n",
    "# imag_1_open_cv = cv2.imread(picture_complete_path[0])  # read image using cv\n",
    "# test_hist_img1 = hist_equal(imag_1_open_cv, 1)  # use equilizer function\n",
    "\n",
    "# cv2.imshow('No_PostProcessing', imag_1_open_cv)\n",
    "# cv2.imshow('Post_Processing', test_hist_img1)\n",
    "# cv2.waitKey(0)\n",
    "# cv2.destroyAllWindows()\n"
   ]
  },
  {
   "cell_type": "markdown",
   "metadata": {},
   "source": [
    "#### Run histogram equilizer function and write images to post processing folder"
   ]
  },
  {
   "cell_type": "code",
   "execution_count": null,
   "metadata": {},
   "outputs": [],
   "source": [
    "\n",
    "if len(os.listdir(PP_path)) == 0:  # ONLY RUN IF THE FOLDER IS EMPTY!!\n",
    "    post_processed_files = []\n",
    "\n",
    "    for n, img in enumerate(picture_complete_path):\n",
    "        load_temp_file = cv2.imread(img)\n",
    "        post_processed_files.append(hist_equal(load_temp_file, 1))\n",
    "\n",
    "    #     cv2.imshow('Post_Processing', post_processed_files[n])\n",
    "    #     cv2.waitKey(0)\n",
    "    #     cv2.destroyAllWindows()\n",
    "\n",
    "        # take [0 ,1]  -> scale to 255\n",
    "        post_processed_files[n] = cv2.convertScaleAbs(post_processed_files[n], alpha=(255.0))\n",
    "        cv2.imwrite(os.path.join(PP_path, file_names[n]), post_processed_files[n],[int(cv2.IMWRITE_JPEG_QUALITY), 100])\n",
    "\n",
    "\n"
   ]
  },
  {
   "cell_type": "markdown",
   "metadata": {},
   "source": [
    "## Defines how may augmentation rounds to generate photos"
   ]
  },
  {
   "cell_type": "code",
   "execution_count": 4,
   "metadata": {
    "pycharm": {
     "name": "#%%\n"
    }
   },
   "outputs": [
    {
     "data": {
      "text/plain": [
       "['augmen_round1_', 'augmen_round2_']"
      ]
     },
     "execution_count": 4,
     "metadata": {},
     "output_type": "execute_result"
    }
   ],
   "source": [
    "#  create PP image file paths but strip .j\n",
    "pp_image_path = [os.path.join(PP_path, file_names[n]) for n in range(len(file_names))]\n",
    "pp_image_prexfix = [os.path.join(PP_path, file_names[n]).strip('.jpg')[0] for n in range(len(file_names))]\n",
    "aug_rounds = 2\n",
    "aug_names = [f'augmen_round{i+1}_' for i in range(2)]\n",
    "aug_names"
   ]
  },
  {
   "cell_type": "markdown",
   "metadata": {},
   "source": [
    "## Runs Agumentation / ImageDataGenerator"
   ]
  },
  {
   "cell_type": "code",
   "execution_count": 5,
   "metadata": {
    "pycharm": {
     "name": "#%%\n"
    }
   },
   "outputs": [
    {
     "name": "stdout",
     "output_type": "stream",
     "text": [
      "1025\n"
     ]
    }
   ],
   "source": [
    "# create data generator: Gives parameters to augment \n",
    "num_orig_files = len(picture_complete_path)\n",
    "print(num_orig_files)\n",
    "\n",
    "datagen = ImageDataGenerator(rescale=1./255,\n",
    "                             shear_range=0.1,\n",
    "                             zoom_range=0.25,\n",
    "                             horizontal_flip=True,\n",
    "                             rotation_range=25,\n",
    "                             fill_mode ='reflect' )\n",
    "\n",
    "pregen_imgs = [cv2.imread(pp_image_path[i]) for i in range(num_orig_files)]  # list of images\n",
    "pregen_imgs = np.asarray(pregen_imgs) # images list into array list\n",
    "# np.expand_dims(test_imgs,0)\n",
    "\n",
    "it = datagen.flow(pregen_imgs, batch_size=1025, shuffle=False,)\n",
    "\n",
    "for i in range(aug_rounds):\n",
    "    batch = it.next()\n",
    "    for k in range(batch.shape[0]):\n",
    "        image = cv2.convertScaleAbs(batch[k], alpha=(255.0))\n",
    "#         cv2.imshow('test', image)\n",
    "#         cv2.waitKey(0)\n",
    "#         cv2.destroyAllWindows()\n",
    "        cv2.imwrite(os.path.join(PP_path, aug_names[i] + file_names[k]), image, [int(cv2.IMWRITE_JPEG_QUALITY), 100])\n",
    "\n",
    "#     it = datagen.flow(pregen_imgs[0:10] ,batch_size=1, shuffle=False, save_to_dir=PP_path, save_prefix=f'aug_names{i}',)\n",
    "    "
   ]
  },
  {
   "cell_type": "code",
   "execution_count": 9,
   "metadata": {},
   "outputs": [],
   "source": [
    "del pregen_imgs, it, batch  # restore memory"
   ]
  }
 ],
 "metadata": {
  "kernelspec": {
   "display_name": "Python 3",
   "language": "python",
   "name": "python3"
  },
  "language_info": {
   "codemirror_mode": {
    "name": "ipython",
    "version": 3
   },
   "file_extension": ".py",
   "mimetype": "text/x-python",
   "name": "python",
   "nbconvert_exporter": "python",
   "pygments_lexer": "ipython3",
   "version": "3.6.10"
  },
  "pycharm": {
   "stem_cell": {
    "cell_type": "raw",
    "metadata": {
     "collapsed": false
    },
    "source": []
   }
  }
 },
 "nbformat": 4,
 "nbformat_minor": 4
}
