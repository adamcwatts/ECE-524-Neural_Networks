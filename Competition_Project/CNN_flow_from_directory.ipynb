{
 "cells": [
  {
   "cell_type": "code",
   "execution_count": 1,
   "metadata": {},
   "outputs": [
    {
     "name": "stdout",
     "output_type": "stream",
     "text": [
      "Num GPUs Available:  1\n"
     ]
    }
   ],
   "source": [
    "import numpy as np\n",
    "import pandas as pd\n",
    "import os\n",
    "import seaborn as sns\n",
    "from functools import partial\n",
    "\n",
    "import tensorflow as tf\n",
    "from tensorflow import keras\n",
    "from tensorflow.keras.applications.inception_v3 import InceptionV3\n",
    "from tensorflow.keras.layers import Flatten, Dense\n",
    "from tensorflow.keras.preprocessing.image import ImageDataGenerator\n",
    "\n",
    "print(\"Num GPUs Available: \", len(tf.config.experimental.list_physical_devices('GPU')))\n",
    "\n",
    "config = tf.compat.v1.ConfigProto()\n",
    "config.gpu_options.allow_growth = True\n",
    "# session = tf.compat.v1.Session(config=config)\n",
    "session = tf.compat.v1.InteractiveSession(config=config)"
   ]
  },
  {
   "cell_type": "code",
   "execution_count": 2,
   "metadata": {},
   "outputs": [],
   "source": [
    "# model = keras.models.Sequential()\n",
    "# model.add(InceptionV3(include_top=False, input_shape=(640, 480, 3),weights=\"imagenet\", pooling='avg'))\n"
   ]
  },
  {
   "cell_type": "code",
   "execution_count": 3,
   "metadata": {},
   "outputs": [],
   "source": [
    "# model.add(Flatten())\n",
    "# model.add(Dense(units=5, activation='softmax'))\n"
   ]
  },
  {
   "cell_type": "code",
   "execution_count": 11,
   "metadata": {},
   "outputs": [],
   "source": [
    "model = keras.models.Sequential()\n",
    "DefaultConv2D = partial(keras.layers.Conv2D,kernel_size=2, activation='relu', padding=\"SAME\")\n",
    "\n",
    "model = keras.models.Sequential([\n",
    "    DefaultConv2D(filters=64, kernel_size=11, input_shape=(320, 240, 3)),\n",
    "    keras.layers.MaxPooling2D(pool_size=2),\n",
    "    DefaultConv2D(filters=128),\n",
    "    DefaultConv2D(filters=128),\n",
    "    keras.layers.MaxPooling2D(pool_size=2),\n",
    "    DefaultConv2D(filters=256),\n",
    "    keras.layers.MaxPooling2D(pool_size=2),\n",
    "    DefaultConv2D(filters=256),\n",
    "    keras.layers.MaxPooling2D(pool_size=4),\n",
    "    keras.layers.Flatten(),\n",
    "    keras.layers.Dense(units=2000, activation='relu'),\n",
    "    keras.layers.Dropout(0.25),\n",
    "    keras.layers.BatchNormalization(),\n",
    "    keras.layers.Dense(units=1000,activation='relu'),\n",
    "    keras.layers.Dropout(0.25),\n",
    "    keras.layers.BatchNormalization(),\n",
    "    keras.layers.Dense(units=5, activation='softmax'),\n",
    "    ])"
   ]
  },
  {
   "cell_type": "code",
   "execution_count": 12,
   "metadata": {},
   "outputs": [
    {
     "name": "stdout",
     "output_type": "stream",
     "text": [
      "Model: \"sequential_3\"\n",
      "_________________________________________________________________\n",
      "Layer (type)                 Output Shape              Param #   \n",
      "=================================================================\n",
      "conv2d_5 (Conv2D)            (None, 320, 240, 64)      23296     \n",
      "_________________________________________________________________\n",
      "max_pooling2d_4 (MaxPooling2 (None, 160, 120, 64)      0         \n",
      "_________________________________________________________________\n",
      "conv2d_6 (Conv2D)            (None, 160, 120, 128)     32896     \n",
      "_________________________________________________________________\n",
      "conv2d_7 (Conv2D)            (None, 160, 120, 128)     65664     \n",
      "_________________________________________________________________\n",
      "max_pooling2d_5 (MaxPooling2 (None, 80, 60, 128)       0         \n",
      "_________________________________________________________________\n",
      "conv2d_8 (Conv2D)            (None, 80, 60, 256)       131328    \n",
      "_________________________________________________________________\n",
      "max_pooling2d_6 (MaxPooling2 (None, 40, 30, 256)       0         \n",
      "_________________________________________________________________\n",
      "conv2d_9 (Conv2D)            (None, 40, 30, 256)       262400    \n",
      "_________________________________________________________________\n",
      "max_pooling2d_7 (MaxPooling2 (None, 10, 7, 256)        0         \n",
      "_________________________________________________________________\n",
      "flatten_1 (Flatten)          (None, 17920)             0         \n",
      "_________________________________________________________________\n",
      "dense_3 (Dense)              (None, 2000)              35842000  \n",
      "_________________________________________________________________\n",
      "dropout_2 (Dropout)          (None, 2000)              0         \n",
      "_________________________________________________________________\n",
      "batch_normalization_2 (Batch (None, 2000)              8000      \n",
      "_________________________________________________________________\n",
      "dense_4 (Dense)              (None, 1000)              2001000   \n",
      "_________________________________________________________________\n",
      "dropout_3 (Dropout)          (None, 1000)              0         \n",
      "_________________________________________________________________\n",
      "batch_normalization_3 (Batch (None, 1000)              4000      \n",
      "_________________________________________________________________\n",
      "dense_5 (Dense)              (None, 5)                 5005      \n",
      "=================================================================\n",
      "Total params: 38,375,589\n",
      "Trainable params: 38,369,589\n",
      "Non-trainable params: 6,000\n",
      "_________________________________________________________________\n"
     ]
    }
   ],
   "source": [
    "model.summary()\n",
    "model.compile(loss=\"sparse_categorical_crossentropy\", optimizer='adam', metrics=['accuracy'])\n"
   ]
  },
  {
   "cell_type": "code",
   "execution_count": 6,
   "metadata": {},
   "outputs": [],
   "source": [
    "my_dir = os.getcwd()  # grabs current work dir\n",
    "all_file_paths = os.listdir()  # grabs all items in current work dir\n",
    "\n",
    "FOLDER_TO_ACCESS = 'traindata_pp_structure'\n",
    "data_path = [data for data in all_file_paths if FOLDER_TO_ACCESS in data.lower()]  # searches for data folder and retrieves\n",
    "train_folder_path = os.path.join(my_dir, data_path[0])  # joins data folder and current work dir to get picture path\n",
    "all_classifications = os.listdir(train_folder_path)  # list of classification fodlers"
   ]
  },
  {
   "cell_type": "code",
   "execution_count": 7,
   "metadata": {},
   "outputs": [
    {
     "name": "stdout",
     "output_type": "stream",
     "text": [
      "Found 821 images belonging to 5 classes.\n",
      "Found 204 images belonging to 5 classes.\n"
     ]
    }
   ],
   "source": [
    "train_datagen = ImageDataGenerator(\n",
    "    validation_split=0.2) # set validation split\n",
    "\n",
    "train_it = train_datagen.flow_from_directory(\n",
    "    train_folder_path,\n",
    "    target_size = (320, 240),\n",
    "    subset='training',\n",
    "    class_mode='sparse',\n",
    "    shuffle=True,\n",
    "    batch_size=8)\n",
    "\n",
    "validate_it = train_datagen.flow_from_directory(\n",
    "    train_folder_path,\n",
    "    target_size = (320, 240),\n",
    "    subset='validation',\n",
    "    class_mode='sparse',\n",
    "    shuffle=True,\n",
    "    batch_size=8)"
   ]
  },
  {
   "cell_type": "code",
   "execution_count": 21,
   "metadata": {},
   "outputs": [
    {
     "name": "stdout",
     "output_type": "stream",
     "text": [
      "WARNING:tensorflow:sample_weight modes were coerced from\n",
      "  ...\n",
      "    to  \n",
      "  ['...']\n",
      "WARNING:tensorflow:sample_weight modes were coerced from\n",
      "  ...\n",
      "    to  \n",
      "  ['...']\n",
      "Train for 102 steps, validate for 26 steps\n",
      "Epoch 1/100\n",
      "102/102 [==============================] - 35s 347ms/step - loss: 0.0729 - accuracy: 0.9743 - val_loss: 4.3416 - val_accuracy: 0.7255\n",
      "Epoch 2/100\n",
      "102/102 [==============================] - 35s 347ms/step - loss: 0.1078 - accuracy: 0.9608 - val_loss: 6.0822 - val_accuracy: 0.7696\n",
      "Epoch 3/100\n",
      "102/102 [==============================] - 35s 347ms/step - loss: 0.1060 - accuracy: 0.9632 - val_loss: 22655.4500 - val_accuracy: 0.7402\n",
      "Epoch 4/100\n",
      "102/102 [==============================] - 35s 346ms/step - loss: 0.2878 - accuracy: 0.9277 - val_loss: 192688.3968 - val_accuracy: 0.5147\n",
      "Epoch 5/100\n",
      "102/102 [==============================] - 35s 347ms/step - loss: 0.2699 - accuracy: 0.9167 - val_loss: 54.7493 - val_accuracy: 0.7549\n",
      "Epoch 6/100\n",
      "102/102 [==============================] - 35s 347ms/step - loss: 0.1003 - accuracy: 0.9645 - val_loss: 1.3307 - val_accuracy: 0.7892\n",
      "Epoch 7/100\n",
      "102/102 [==============================] - 35s 347ms/step - loss: 0.0618 - accuracy: 0.9779 - val_loss: 1.6679 - val_accuracy: 0.7304\n",
      "Epoch 8/100\n",
      "102/102 [==============================] - 35s 347ms/step - loss: 0.0544 - accuracy: 0.9804 - val_loss: 69722.2712 - val_accuracy: 0.6863\n",
      "Epoch 9/100\n",
      "102/102 [==============================] - 35s 347ms/step - loss: 0.0658 - accuracy: 0.9755 - val_loss: 387401.5085 - val_accuracy: 0.7304\n",
      "Epoch 10/100\n",
      "102/102 [==============================] - 35s 347ms/step - loss: 0.0877 - accuracy: 0.9755 - val_loss: 1.6314 - val_accuracy: 0.7402\n",
      "Epoch 11/100\n",
      "102/102 [==============================] - 35s 347ms/step - loss: 0.0903 - accuracy: 0.9706 - val_loss: 579105.8732 - val_accuracy: 0.7500\n",
      "Epoch 12/100\n",
      "102/102 [==============================] - 35s 347ms/step - loss: 0.0412 - accuracy: 0.9841 - val_loss: 1.2531 - val_accuracy: 0.8088\n",
      "Epoch 13/100\n",
      "102/102 [==============================] - 35s 347ms/step - loss: 0.0552 - accuracy: 0.9853 - val_loss: 2.0794 - val_accuracy: 0.7843\n",
      "Epoch 14/100\n",
      "102/102 [==============================] - 35s 347ms/step - loss: 0.0316 - accuracy: 0.9902 - val_loss: 717.2363 - val_accuracy: 0.7696\n",
      "Epoch 15/100\n",
      "102/102 [==============================] - 35s 347ms/step - loss: 0.0728 - accuracy: 0.9730 - val_loss: 12508.0643 - val_accuracy: 0.7451\n",
      "Epoch 16/100\n",
      "102/102 [==============================] - 35s 347ms/step - loss: 0.0565 - accuracy: 0.9767 - val_loss: 25989.5744 - val_accuracy: 0.7549\n",
      "Epoch 17/100\n",
      "102/102 [==============================] - 35s 347ms/step - loss: 0.0360 - accuracy: 0.9877 - val_loss: 1.7096 - val_accuracy: 0.8137\n",
      "Epoch 18/100\n",
      "102/102 [==============================] - 35s 347ms/step - loss: 0.0446 - accuracy: 0.9841 - val_loss: 8.8629 - val_accuracy: 0.6029\n",
      "Epoch 19/100\n",
      "102/102 [==============================] - 35s 347ms/step - loss: 0.0371 - accuracy: 0.9877 - val_loss: 5.5985 - val_accuracy: 0.7745\n",
      "Epoch 20/100\n",
      "102/102 [==============================] - 35s 347ms/step - loss: 0.0319 - accuracy: 0.9865 - val_loss: 2.3302 - val_accuracy: 0.7647\n",
      "Epoch 21/100\n",
      "102/102 [==============================] - 35s 347ms/step - loss: 0.0257 - accuracy: 0.9939 - val_loss: 5.1512 - val_accuracy: 0.7843\n",
      "Epoch 22/100\n",
      "102/102 [==============================] - 35s 347ms/step - loss: 0.0891 - accuracy: 0.9694 - val_loss: 354411.1504 - val_accuracy: 0.6078\n",
      "Epoch 23/100\n",
      "102/102 [==============================] - 35s 347ms/step - loss: 0.2919 - accuracy: 0.9130 - val_loss: 140.8651 - val_accuracy: 0.7402\n",
      "Epoch 24/100\n",
      "102/102 [==============================] - 35s 347ms/step - loss: 0.2716 - accuracy: 0.9093 - val_loss: 2.1882 - val_accuracy: 0.7549\n",
      "Epoch 25/100\n",
      "102/102 [==============================] - 35s 347ms/step - loss: 0.1280 - accuracy: 0.9608 - val_loss: 12.8765 - val_accuracy: 0.7990\n",
      "Epoch 26/100\n",
      "102/102 [==============================] - 35s 348ms/step - loss: 0.0663 - accuracy: 0.9718 - val_loss: 977.0302 - val_accuracy: 0.7353\n",
      "Epoch 27/100\n",
      "102/102 [==============================] - 35s 346ms/step - loss: 0.0728 - accuracy: 0.9730 - val_loss: 12485.8702 - val_accuracy: 0.7794\n",
      "Epoch 28/100\n",
      "102/102 [==============================] - 35s 347ms/step - loss: 0.0773 - accuracy: 0.9730 - val_loss: 1.9418 - val_accuracy: 0.7794\n",
      "Epoch 29/100\n",
      "102/102 [==============================] - 35s 347ms/step - loss: 0.0366 - accuracy: 0.9841 - val_loss: 105.8690 - val_accuracy: 0.7598\n",
      "Epoch 30/100\n",
      "102/102 [==============================] - 35s 347ms/step - loss: 0.0178 - accuracy: 0.9939 - val_loss: 2.9425 - val_accuracy: 0.7892\n",
      "Epoch 31/100\n",
      "102/102 [==============================] - 35s 347ms/step - loss: 0.0351 - accuracy: 0.9890 - val_loss: 1.5647 - val_accuracy: 0.7990\n",
      "Epoch 32/100\n",
      "102/102 [==============================] - 35s 347ms/step - loss: 0.0161 - accuracy: 0.9975 - val_loss: 9018.9415 - val_accuracy: 0.7108\n",
      "Epoch 33/100\n",
      "102/102 [==============================] - 35s 347ms/step - loss: 0.0195 - accuracy: 0.9902 - val_loss: 53116.3229 - val_accuracy: 0.7794\n",
      "Epoch 34/100\n",
      "102/102 [==============================] - 35s 347ms/step - loss: 0.0244 - accuracy: 0.9902 - val_loss: 8778.5023 - val_accuracy: 0.7843\n",
      "Epoch 35/100\n",
      "102/102 [==============================] - 35s 347ms/step - loss: 0.0533 - accuracy: 0.9828 - val_loss: 873.2661 - val_accuracy: 0.7304\n",
      "Epoch 36/100\n",
      "102/102 [==============================] - 35s 347ms/step - loss: 0.1451 - accuracy: 0.9485 - val_loss: 762222.0403 - val_accuracy: 0.7402\n",
      "Epoch 37/100\n",
      "102/102 [==============================] - 35s 346ms/step - loss: 0.1024 - accuracy: 0.9706 - val_loss: 2.2830 - val_accuracy: 0.7892\n",
      "Epoch 38/100\n",
      "102/102 [==============================] - 35s 346ms/step - loss: 0.6172 - accuracy: 0.8603 - val_loss: 228402.0935 - val_accuracy: 0.4510\n",
      "Epoch 39/100\n",
      "102/102 [==============================] - 35s 347ms/step - loss: 0.5445 - accuracy: 0.8248 - val_loss: 19987.5609 - val_accuracy: 0.5980\n",
      "Epoch 40/100\n",
      "102/102 [==============================] - 35s 347ms/step - loss: 0.1975 - accuracy: 0.9277 - val_loss: 594299.8164 - val_accuracy: 0.6765\n",
      "Epoch 41/100\n",
      "102/102 [==============================] - 35s 347ms/step - loss: 0.1250 - accuracy: 0.9620 - val_loss: 264955.1542 - val_accuracy: 0.6275\n",
      "Epoch 42/100\n",
      "102/102 [==============================] - 35s 347ms/step - loss: 0.0922 - accuracy: 0.9669 - val_loss: 64621.0186 - val_accuracy: 0.7549\n",
      "Epoch 43/100\n",
      "102/102 [==============================] - 35s 347ms/step - loss: 0.0845 - accuracy: 0.9669 - val_loss: 9.3366 - val_accuracy: 0.7794\n",
      "Epoch 44/100\n",
      "102/102 [==============================] - 35s 347ms/step - loss: 0.0762 - accuracy: 0.9755 - val_loss: 1.9192 - val_accuracy: 0.7794\n",
      "Epoch 45/100\n",
      "102/102 [==============================] - 35s 347ms/step - loss: 0.0409 - accuracy: 0.9853 - val_loss: 53771.9772 - val_accuracy: 0.7647\n",
      "Epoch 46/100\n",
      "102/102 [==============================] - 35s 347ms/step - loss: 0.0633 - accuracy: 0.9779 - val_loss: 20.9854 - val_accuracy: 0.7892\n",
      "Epoch 47/100\n",
      "102/102 [==============================] - 35s 347ms/step - loss: 0.1026 - accuracy: 0.9657 - val_loss: 1.7140 - val_accuracy: 0.8137\n",
      "Epoch 48/100\n",
      "102/102 [==============================] - 35s 347ms/step - loss: 0.1048 - accuracy: 0.9608 - val_loss: 5.4972 - val_accuracy: 0.7647\n",
      "Epoch 49/100\n",
      "102/102 [==============================] - 35s 347ms/step - loss: 0.0682 - accuracy: 0.9669 - val_loss: 2.3928 - val_accuracy: 0.7696\n",
      "Epoch 50/100\n",
      "102/102 [==============================] - 35s 347ms/step - loss: 0.0619 - accuracy: 0.9743 - val_loss: 47.9426 - val_accuracy: 0.7500\n",
      "Epoch 51/100\n",
      "102/102 [==============================] - 35s 347ms/step - loss: 0.0354 - accuracy: 0.9865 - val_loss: 7.4003 - val_accuracy: 0.7402\n",
      "Epoch 52/100\n",
      "102/102 [==============================] - 35s 347ms/step - loss: 0.0169 - accuracy: 0.9939 - val_loss: 8.2007 - val_accuracy: 0.7647\n",
      "Epoch 53/100\n",
      "102/102 [==============================] - 35s 347ms/step - loss: 0.0237 - accuracy: 0.9902 - val_loss: 2.4979 - val_accuracy: 0.7696\n",
      "Epoch 54/100\n",
      "102/102 [==============================] - 35s 346ms/step - loss: 0.0308 - accuracy: 0.9890 - val_loss: 3.1842 - val_accuracy: 0.7745\n"
     ]
    },
    {
     "name": "stdout",
     "output_type": "stream",
     "text": [
      "Epoch 55/100\n",
      "102/102 [==============================] - 35s 347ms/step - loss: 0.0267 - accuracy: 0.9926 - val_loss: 2.3597 - val_accuracy: 0.7647\n",
      "Epoch 56/100\n",
      "102/102 [==============================] - 35s 347ms/step - loss: 0.0136 - accuracy: 0.9963 - val_loss: 7246.7206 - val_accuracy: 0.7451\n",
      "Epoch 57/100\n",
      "102/102 [==============================] - 35s 346ms/step - loss: 0.0216 - accuracy: 0.9939 - val_loss: 10686.3841 - val_accuracy: 0.7549\n",
      "Epoch 58/100\n",
      "102/102 [==============================] - 35s 346ms/step - loss: 0.0208 - accuracy: 0.9926 - val_loss: 8838.4517 - val_accuracy: 0.7549\n",
      "Epoch 59/100\n",
      "102/102 [==============================] - 35s 347ms/step - loss: 0.0134 - accuracy: 0.9951 - val_loss: 2.0658 - val_accuracy: 0.7794\n",
      "Epoch 60/100\n",
      "102/102 [==============================] - 35s 347ms/step - loss: 0.0210 - accuracy: 0.9939 - val_loss: 3.6396 - val_accuracy: 0.7402\n",
      "Epoch 61/100\n",
      "102/102 [==============================] - 35s 347ms/step - loss: 0.0217 - accuracy: 0.9914 - val_loss: 282846.4209 - val_accuracy: 0.7108\n",
      "Epoch 62/100\n",
      "102/102 [==============================] - 35s 347ms/step - loss: 0.0710 - accuracy: 0.9657 - val_loss: 4.9665 - val_accuracy: 0.7843\n",
      "Epoch 63/100\n",
      "102/102 [==============================] - 35s 347ms/step - loss: 0.0222 - accuracy: 0.9939 - val_loss: 69788.6117 - val_accuracy: 0.7206\n",
      "Epoch 64/100\n",
      "102/102 [==============================] - 35s 347ms/step - loss: 0.0414 - accuracy: 0.9853 - val_loss: 1173.1915 - val_accuracy: 0.7549\n",
      "Epoch 65/100\n",
      "102/102 [==============================] - 35s 346ms/step - loss: 0.0157 - accuracy: 0.9951 - val_loss: 2.3088 - val_accuracy: 0.7647\n",
      "Epoch 66/100\n",
      "102/102 [==============================] - 35s 347ms/step - loss: 0.0293 - accuracy: 0.9890 - val_loss: 6018.1637 - val_accuracy: 0.7745\n",
      "Epoch 67/100\n",
      "102/102 [==============================] - 35s 347ms/step - loss: 0.0168 - accuracy: 0.9951 - val_loss: 1.5897 - val_accuracy: 0.7941\n",
      "Epoch 68/100\n",
      "102/102 [==============================] - 35s 347ms/step - loss: 0.4300 - accuracy: 0.8897 - val_loss: 2.1607 - val_accuracy: 0.6176\n",
      "Epoch 69/100\n",
      "102/102 [==============================] - 35s 347ms/step - loss: 0.6810 - accuracy: 0.8186 - val_loss: 14.4039 - val_accuracy: 0.3480\n",
      "Epoch 70/100\n",
      "102/102 [==============================] - 35s 347ms/step - loss: 0.2333 - accuracy: 0.9167 - val_loss: 4.4956 - val_accuracy: 0.6716\n",
      "Epoch 71/100\n",
      "102/102 [==============================] - 35s 347ms/step - loss: 0.0954 - accuracy: 0.9632 - val_loss: 12.8401 - val_accuracy: 0.6225\n",
      "Epoch 72/100\n",
      "102/102 [==============================] - 35s 347ms/step - loss: 0.0661 - accuracy: 0.9706 - val_loss: 2.0273 - val_accuracy: 0.7157\n",
      "Epoch 73/100\n",
      "102/102 [==============================] - 35s 347ms/step - loss: 0.0548 - accuracy: 0.9779 - val_loss: 2.4921 - val_accuracy: 0.7647\n",
      "Epoch 74/100\n",
      "102/102 [==============================] - 35s 347ms/step - loss: 0.0408 - accuracy: 0.9853 - val_loss: 3.0429 - val_accuracy: 0.7157\n",
      "Epoch 75/100\n",
      "102/102 [==============================] - 35s 347ms/step - loss: 0.0586 - accuracy: 0.9816 - val_loss: 382924.6506 - val_accuracy: 0.7157\n",
      "Epoch 76/100\n",
      "102/102 [==============================] - 35s 347ms/step - loss: 0.0462 - accuracy: 0.9828 - val_loss: 294.8809 - val_accuracy: 0.7108\n",
      "Epoch 77/100\n",
      "102/102 [==============================] - 35s 346ms/step - loss: 0.0540 - accuracy: 0.9792 - val_loss: 5.0720 - val_accuracy: 0.7353\n",
      "Epoch 78/100\n",
      "102/102 [==============================] - 35s 347ms/step - loss: 0.0363 - accuracy: 0.9853 - val_loss: 7.1055 - val_accuracy: 0.7843\n",
      "Epoch 79/100\n",
      "102/102 [==============================] - 35s 347ms/step - loss: 0.0379 - accuracy: 0.9877 - val_loss: 252706.1493 - val_accuracy: 0.7647\n",
      "Epoch 80/100\n",
      "102/102 [==============================] - 35s 347ms/step - loss: 0.0459 - accuracy: 0.9816 - val_loss: 1.8003 - val_accuracy: 0.7353\n",
      "Epoch 81/100\n",
      "102/102 [==============================] - 35s 347ms/step - loss: 0.0460 - accuracy: 0.9853 - val_loss: 10.8475 - val_accuracy: 0.7745\n",
      "Epoch 82/100\n",
      "102/102 [==============================] - 35s 347ms/step - loss: 0.0400 - accuracy: 0.9841 - val_loss: 146170.4434 - val_accuracy: 0.7108\n",
      "Epoch 83/100\n",
      "102/102 [==============================] - 35s 347ms/step - loss: 0.0336 - accuracy: 0.9877 - val_loss: 4.2160 - val_accuracy: 0.7451\n",
      "Epoch 84/100\n",
      "102/102 [==============================] - 35s 347ms/step - loss: 0.1753 - accuracy: 0.9387 - val_loss: 3.2789 - val_accuracy: 0.7500\n",
      "Epoch 85/100\n",
      "102/102 [==============================] - 35s 346ms/step - loss: 0.1296 - accuracy: 0.9473 - val_loss: 1.9679 - val_accuracy: 0.6863\n",
      "Epoch 86/100\n",
      "102/102 [==============================] - 35s 347ms/step - loss: 0.0478 - accuracy: 0.9877 - val_loss: 5.0726 - val_accuracy: 0.7304\n",
      "Epoch 87/100\n",
      "102/102 [==============================] - 35s 347ms/step - loss: 0.0730 - accuracy: 0.9779 - val_loss: 116.0710 - val_accuracy: 0.7402\n",
      "Epoch 88/100\n",
      "102/102 [==============================] - 35s 347ms/step - loss: 0.0742 - accuracy: 0.9743 - val_loss: 3.3012 - val_accuracy: 0.6176\n",
      "Epoch 89/100\n",
      "102/102 [==============================] - 35s 347ms/step - loss: 0.0491 - accuracy: 0.9841 - val_loss: 125199.6900 - val_accuracy: 0.7549\n",
      "Epoch 90/100\n",
      "102/102 [==============================] - 35s 347ms/step - loss: 0.0466 - accuracy: 0.9865 - val_loss: 23532.1705 - val_accuracy: 0.7255\n",
      "Epoch 91/100\n",
      "102/102 [==============================] - 35s 347ms/step - loss: 0.0287 - accuracy: 0.9926 - val_loss: 12.0001 - val_accuracy: 0.7892\n",
      "Epoch 92/100\n",
      "102/102 [==============================] - 35s 347ms/step - loss: 0.0190 - accuracy: 0.9939 - val_loss: 5.0368 - val_accuracy: 0.7745\n",
      "Epoch 93/100\n",
      "102/102 [==============================] - 35s 347ms/step - loss: 0.0310 - accuracy: 0.9926 - val_loss: 3.6799 - val_accuracy: 0.7500\n",
      "Epoch 94/100\n",
      "102/102 [==============================] - 35s 347ms/step - loss: 0.0212 - accuracy: 0.9926 - val_loss: 106499.6877 - val_accuracy: 0.7353\n",
      "Epoch 95/100\n",
      "102/102 [==============================] - 35s 347ms/step - loss: 0.0078 - accuracy: 0.9963 - val_loss: 67706.7815 - val_accuracy: 0.7353\n",
      "Epoch 96/100\n",
      "102/102 [==============================] - 35s 347ms/step - loss: 0.0203 - accuracy: 0.9914 - val_loss: 4.0992 - val_accuracy: 0.7598\n",
      "Epoch 97/100\n",
      "102/102 [==============================] - 35s 347ms/step - loss: 0.0243 - accuracy: 0.9890 - val_loss: 194625.6733 - val_accuracy: 0.7108\n",
      "Epoch 98/100\n",
      "102/102 [==============================] - 35s 347ms/step - loss: 0.0218 - accuracy: 0.9926 - val_loss: 780293.9559 - val_accuracy: 0.7451\n",
      "Epoch 99/100\n",
      "102/102 [==============================] - 35s 347ms/step - loss: 0.0196 - accuracy: 0.9926 - val_loss: 2.9992 - val_accuracy: 0.7647\n",
      "Epoch 100/100\n",
      "102/102 [==============================] - 35s 347ms/step - loss: 0.0185 - accuracy: 0.9939 - val_loss: 3.7426 - val_accuracy: 0.7745\n"
     ]
    }
   ],
   "source": [
    "history = model.fit(train_it,\n",
    "                    steps_per_epoch=train_it.n // train_it.batch_size,\n",
    "                    epochs=100, verbose=1,\n",
    "                    callbacks=None, validation_data=validate_it,\n",
    "                    validation_steps=None,\n",
    "                    class_weight=None, max_queue_size=2,\n",
    "                    workers=1, use_multiprocessing=False,\n",
    "                    shuffle=False, initial_epoch=0)\n"
   ]
  },
  {
   "cell_type": "code",
   "execution_count": 22,
   "metadata": {},
   "outputs": [
    {
     "data": {
      "text/plain": [
       "<matplotlib.axes._subplots.AxesSubplot at 0x28205774f48>"
      ]
     },
     "execution_count": 22,
     "metadata": {},
     "output_type": "execute_result"
    },
    {
     "data": {
      "image/png": "[encoded data removed]",
      "text/plain": [
       "<Figure size 432x288 with 1 Axes>"
      ]
     },
     "metadata": {
      "needs_background": "light"
     },
     "output_type": "display_data"
    }
   ],
   "source": [
    "history.history\n",
    "sns.lineplot(np.linspace(1,100,100), history.history['val_accuracy'])"
   ]
  },
  {
   "cell_type": "code",
   "execution_count": 20,
   "metadata": {},
   "outputs": [
    {
     "data": {
      "text/plain": [
       "75"
      ]
     },
     "execution_count": 20,
     "metadata": {},
     "output_type": "execute_result"
    }
   ],
   "source": [
    "len(history.history['loss'])"
   ]
  },
  {
   "cell_type": "code",
   "execution_count": null,
   "metadata": {},
   "outputs": [],
   "source": [
    "# train_it.n // 2\n",
    "# confirm the iterator works\n",
    "# batchX, batchy = train_it.next()\n",
    "# print('Batch shape=%s, min=%.3f, max=%.3f' % (batchX.shape, batchX.min(), batchX.max()))\n",
    "\n",
    "# batchX[0].shape"
   ]
  }
 ],
 "metadata": {
  "kernelspec": {
   "display_name": "Python 3",
   "language": "python",
   "name": "python3"
  },
  "language_info": {
   "codemirror_mode": {
    "name": "ipython",
    "version": 3
   },
   "file_extension": ".py",
   "mimetype": "text/x-python",
   "name": "python",
   "nbconvert_exporter": "python",
   "pygments_lexer": "ipython3",
   "version": "3.7.6"
  }
 },
 "nbformat": 4,
 "nbformat_minor": 4
}
