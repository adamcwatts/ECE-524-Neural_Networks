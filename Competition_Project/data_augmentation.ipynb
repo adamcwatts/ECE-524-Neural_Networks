{
 "cells": [
  {
   "cell_type": "code",
   "execution_count": 2,
   "metadata": {
    "pycharm": {
     "name": "#%%\n"
    }
   },
   "outputs": [],
   "source": [
    "import tensorflow as tf\n",
    "from tensorflow import keras\n",
    "from tensorflow.keras.preprocessing.image import load_img, img_to_array, ImageDataGenerator\n",
    "import cv2\n",
    "import numpy as np\n",
    "import pandas as pd\n",
    "import os\n",
    "import seaborn as sns\n",
    "from functools import partial\n",
    "sns.set_context('notebook')\n",
    "import matplotlib.pyplot as plt\n",
    "\n"
   ]
  },
  {
   "cell_type": "code",
   "execution_count": 3,
   "metadata": {
    "pycharm": {
     "name": "#%%\n"
    }
   },
   "outputs": [],
   "source": [
    "def hist_equal(img,L):\n",
    "    '''takes image and an output space [0,L] as an input and gives an equalized image(in float) as output'''\n",
    "    img = img.astype('float')\n",
    "    epsilon = 1e-6 #a small number to remove divide by zero error\n",
    "    if len(img.shape) == 2:\n",
    "        return (L*(img - min(img.flatten()))/(max(img.flatten())-min(img.flatten())+epsilon))\n",
    "    else:\n",
    "        img[:,:,0] = L*(img[:,:,0] - min(img[:,:,0].flatten()))/(max(img[:,:,0].flatten())-min(img[:,:,0].flatten())+epsilon)\n",
    "        img[:,:,1] = L*(img[:,:,1] - min(img[:,:,1].flatten()))/(max(img[:,:,1].flatten())-min(img[:,:,1].flatten())+epsilon)\n",
    "        img[:,:,2] = L*(img[:,:,2] - min(img[:,:,2].flatten()))/(max(img[:,:,2].flatten())-min(img[:,:,2].flatten())+epsilon)\n",
    "        return img"
   ]
  },
  {
   "cell_type": "markdown",
   "metadata": {},
   "source": [
    "#### Load Directories and get file paths"
   ]
  },
  {
   "cell_type": "code",
   "execution_count": 43,
   "metadata": {
    "pycharm": {
     "name": "#%%\n"
    }
   },
   "outputs": [
    {
     "name": "stdout",
     "output_type": "stream",
     "text": [
      "['C:\\\\Users\\\\adamc\\\\Jupyter\\\\ECE-524-Neural_Networks\\\\Competition_Project\\\\TrainData\\\\019068.jpg', 'C:\\\\Users\\\\adamc\\\\Jupyter\\\\ECE-524-Neural_Networks\\\\Competition_Project\\\\TrainData\\\\019110.jpg', 'C:\\\\Users\\\\adamc\\\\Jupyter\\\\ECE-524-Neural_Networks\\\\Competition_Project\\\\TrainData\\\\019115.jpg', 'C:\\\\Users\\\\adamc\\\\Jupyter\\\\ECE-524-Neural_Networks\\\\Competition_Project\\\\TrainData\\\\019121.jpg', 'C:\\\\Users\\\\adamc\\\\Jupyter\\\\ECE-524-Neural_Networks\\\\Competition_Project\\\\TrainData\\\\019140.jpg', 'C:\\\\Users\\\\adamc\\\\Jupyter\\\\ECE-524-Neural_Networks\\\\Competition_Project\\\\TrainData\\\\019151.jpg', 'C:\\\\Users\\\\adamc\\\\Jupyter\\\\ECE-524-Neural_Networks\\\\Competition_Project\\\\TrainData\\\\019159.jpg', 'C:\\\\Users\\\\adamc\\\\Jupyter\\\\ECE-524-Neural_Networks\\\\Competition_Project\\\\TrainData\\\\019165.jpg', 'C:\\\\Users\\\\adamc\\\\Jupyter\\\\ECE-524-Neural_Networks\\\\Competition_Project\\\\TrainData\\\\019171.jpg']\n"
     ]
    }
   ],
   "source": [
    "my_dir = os.getcwd()  # grabs current work dir\n",
    "all_file_paths = os.listdir()  # grabs all items in current work dir\n",
    "\n",
    "data_path = [data for data in all_file_paths if 'traindata' in data.lower()]  # searches for data folder and retrieves\n",
    "\n",
    "picture_folder_path = os.path.join(my_dir, data_path[0])  # joins data folder and current work dir to get picture path\n",
    "picture_folder_path\n",
    "\n",
    "all_pictures = os.listdir(picture_folder_path)  # list of pictures names in folder\n",
    "\n",
    "picture_complete_path = [os.path.join(picture_folder_path, pic) for pic in\n",
    "                         all_pictures]  # complete path to each picture\n",
    "\n",
    "PP_path = os.path.join(my_dir, \"TrainData_PP\")  # PP: Post Processed\n",
    "\n",
    "\n",
    "\n",
    "# split the picture path and return only the OG file name\n",
    "file_names = [picture_complete_path[x].split('TrainData\\\\')[1] for x in range(len(picture_complete_path))]"
   ]
  },
  {
   "cell_type": "markdown",
   "metadata": {},
   "source": [
    "#### Test Files, Load Test Images"
   ]
  },
  {
   "cell_type": "code",
   "execution_count": null,
   "metadata": {},
   "outputs": [],
   "source": [
    "# img_1 = load_img(picture_complete_path[0])\n",
    "# print(\"FIRST IMAGE DETAILS:\", \"\\nClass: \", type(img_1), \"\\nFile Format: \", img_1.format,\n",
    "#       \"\\nImage type: \", img_1.mode, '\\nImage Size:', img_1.size)\n",
    "# print()\n",
    "\n",
    "# imag_1_open_cv = cv2.imread(picture_complete_path[0])  # read image using cv\n",
    "# test_hist_img1 = hist_equal(imag_1_open_cv, 1)  # use equilizer function\n",
    "\n",
    "# cv2.imshow('No_PostProcessing', imag_1_open_cv)\n",
    "# cv2.imshow('Post_Processing', test_hist_img1)\n",
    "# cv2.waitKey(0)\n",
    "# cv2.destroyAllWindows()\n"
   ]
  },
  {
   "cell_type": "code",
   "execution_count": 55,
   "metadata": {},
   "outputs": [],
   "source": [
    "post_processed_files = []\n",
    "\n",
    "for n, img in enumerate(picture_complete_path):\n",
    "    load_temp_file = cv2.imread(img)\n",
    "    post_processed_files.append(hist_equal(load_temp_file, 1))\n",
    "    \n",
    "#     cv2.imshow('Post_Processing', post_processed_files[n])\n",
    "#     cv2.waitKey(0)\n",
    "#     cv2.destroyAllWindows()\n",
    "\n",
    "    # take [0 ,1]  -> scale to 255\n",
    "    post_processed_files[n] = cv2.convertScaleAbs(post_processed_files[n], alpha=(255.0))\n",
    "    cv2.imwrite(os.path.join(PP_path, file_names[n]), post_processed_files[n],[int(cv2.IMWRITE_JPEG_QUALITY), 100])\n",
    "\n",
    "\n",
    "    "
   ]
  },
  {
   "cell_type": "code",
   "execution_count": null,
   "metadata": {
    "pycharm": {
     "name": "#%%\n"
    }
   },
   "outputs": [],
   "source": [
    "# Load Data\n",
    "# rgb_scale_photos = [load_img(photo, color_mode='rgb', target_size=(320, 240)) for photo in picture_complete_path] # RGB\n",
    "# rgb_scale_photos = [load_img(photo, color_mode='rgb') for photo in picture_complete_path] # RGB\n",
    "\n",
    "\n",
    "array_photo_list = [img_to_array(photo) for photo in rgb_scale_photos] # RGB\n",
    "\n",
    "X_train_all = np.asarray(array_photo_list)"
   ]
  },
  {
   "cell_type": "code",
   "execution_count": null,
   "metadata": {
    "pycharm": {
     "name": "#%%\n"
    }
   },
   "outputs": [],
   "source": [
    "# create data generator\n",
    "datagen = ImageDataGenerator(rotation_range=45)\n",
    "\n",
    "it = datagen.flow(np.expand_dims(X_train_all[0],0) ,batch_size=1)"
   ]
  },
  {
   "cell_type": "code",
   "execution_count": null,
   "metadata": {
    "pycharm": {
     "name": "#%%\n"
    }
   },
   "outputs": [],
   "source": [
    "batch = it.next()\n",
    "# convert to unsigned integers for viewing\n",
    "image = batch[0].astype('uint8')\n",
    "# plot raw pixel data\n",
    "plt.imshow(image)"
   ]
  },
  {
   "cell_type": "code",
   "execution_count": null,
   "metadata": {
    "pycharm": {
     "name": "#%%\n"
    }
   },
   "outputs": [],
   "source": []
  }
 ],
 "metadata": {
  "kernelspec": {
   "display_name": "Python 3",
   "language": "python",
   "name": "python3"
  },
  "language_info": {
   "codemirror_mode": {
    "name": "ipython",
    "version": 3
   },
   "file_extension": ".py",
   "mimetype": "text/x-python",
   "name": "python",
   "nbconvert_exporter": "python",
   "pygments_lexer": "ipython3",
   "version": "3.7.3"
  },
  "pycharm": {
   "stem_cell": {
    "cell_type": "raw",
    "metadata": {
     "collapsed": false
    },
    "source": []
   }
  }
 },
 "nbformat": 4,
 "nbformat_minor": 4
}
