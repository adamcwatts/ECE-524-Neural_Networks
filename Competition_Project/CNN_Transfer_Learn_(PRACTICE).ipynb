{
 "cells": [
  {
   "cell_type": "code",
   "execution_count": 1,
   "metadata": {},
   "outputs": [
    {
     "name": "stdout",
     "output_type": "stream",
     "text": [
      "Num GPUs Available:  1\n"
     ]
    }
   ],
   "source": [
    "import numpy as np\n",
    "import pandas as pd\n",
    "import os\n",
    "import seaborn as sns\n",
    "from functools import partial\n",
    "\n",
    "import tensorflow as tf\n",
    "from tensorflow import keras\n",
    "from tensorflow.keras.applications.inception_v3 import InceptionV3\n",
    "from tensorflow.keras.layers import Flatten, Dense\n",
    "from tensorflow.keras.preprocessing.image import ImageDataGenerator\n",
    "\n",
    "\n",
    "print(\"Num GPUs Available: \", len(tf.config.experimental.list_physical_devices('GPU')))\n",
    "config = tf.compat.v1.ConfigProto()\n",
    "config.gpu_options.allow_growth = True\n",
    "# session = tf.compat.v1.Session(config=config)\n",
    "session = tf.compat.v1.InteractiveSession(config=config)"
   ]
  },
  {
   "cell_type": "code",
   "execution_count": 2,
   "metadata": {},
   "outputs": [],
   "source": [
    "my_dir = os.getcwd()  # grabs current work dir\n",
    "all_file_paths = os.listdir()  # grabs all items in current work dir\n",
    "\n",
    "FOLDER_TO_ACCESS = 'traindata_pp_structure'\n",
    "data_path = [data for data in all_file_paths if FOLDER_TO_ACCESS in data.lower()]  # searches for data folder and retrieves\n",
    "train_folder_path = os.path.join(my_dir, data_path[0])  # joins data folder and current work dir to get picture path\n",
    "all_classifications = os.listdir(train_folder_path)  # list of classification fodlers"
   ]
  },
  {
   "cell_type": "code",
   "execution_count": 3,
   "metadata": {},
   "outputs": [
    {
     "name": "stdout",
     "output_type": "stream",
     "text": [
      "Found 821 images belonging to 5 classes.\n",
      "Found 204 images belonging to 5 classes.\n"
     ]
    }
   ],
   "source": [
    "# IM_ORIG = np.array([640, 480])\n",
    "# IM_SCALE = 2\n",
    "\n",
    "# IM = IM_ORIG / IM_SCALE\n",
    "# IM = [int(x) for x in np.append(IM, 3).tolist()]\n",
    "IM = (299, 299)\n",
    "\n",
    "train_datagen = ImageDataGenerator(\n",
    "    validation_split=0.2) # set validation split\n",
    "\n",
    "train_it = train_datagen.flow_from_directory(\n",
    "    train_folder_path,\n",
    "    target_size = IM,\n",
    "    subset='training',\n",
    "    class_mode='sparse',\n",
    "    shuffle=True,\n",
    "    batch_size=28)\n",
    "\n",
    "validate_it = train_datagen.flow_from_directory(\n",
    "    train_folder_path,\n",
    "    target_size = IM,\n",
    "    subset='validation',\n",
    "    class_mode='sparse',\n",
    "    shuffle=True,\n",
    "    batch_size=28)"
   ]
  },
  {
   "cell_type": "code",
   "execution_count": 4,
   "metadata": {},
   "outputs": [],
   "source": [
    "model = keras.models.Sequential()\n",
    "\n",
    "# new_input = keras.Input(shape=IM)\n",
    "model.add(InceptionV3(include_top=False, input_shape=(299, 299, 3), weights=\"imagenet\", pooling='avg'))\n",
    "model.add(Flatten())\n",
    "model.add(Dense(units=5, activation='softmax'))\n"
   ]
  },
  {
   "cell_type": "code",
   "execution_count": 5,
   "metadata": {},
   "outputs": [
    {
     "name": "stdout",
     "output_type": "stream",
     "text": [
      "Model: \"sequential\"\n",
      "_________________________________________________________________\n",
      "Layer (type)                 Output Shape              Param #   \n",
      "=================================================================\n",
      "inception_v3 (Model)         (None, 2048)              21802784  \n",
      "_________________________________________________________________\n",
      "flatten (Flatten)            (None, 2048)              0         \n",
      "_________________________________________________________________\n",
      "dense (Dense)                (None, 5)                 10245     \n",
      "=================================================================\n",
      "Total params: 21,813,029\n",
      "Trainable params: 21,778,597\n",
      "Non-trainable params: 34,432\n",
      "_________________________________________________________________\n"
     ]
    }
   ],
   "source": [
    "model.summary()\n",
    "model.compile(loss=\"sparse_categorical_crossentropy\", optimizer='adam', metrics=['accuracy'])\n"
   ]
  },
  {
   "cell_type": "code",
   "execution_count": 6,
   "metadata": {},
   "outputs": [
    {
     "name": "stdout",
     "output_type": "stream",
     "text": [
      "WARNING:tensorflow:sample_weight modes were coerced from\n",
      "  ...\n",
      "    to  \n",
      "  ['...']\n",
      "WARNING:tensorflow:sample_weight modes were coerced from\n",
      "  ...\n",
      "    to  \n",
      "  ['...']\n",
      "Train for 29 steps, validate for 8 steps\n",
      "Epoch 1/30\n",
      "29/29 [==============================] - 87s 3s/step - loss: 0.9324 - accuracy: 0.6466 - val_loss: 434.4546 - val_accuracy: 0.1275\n",
      "Epoch 2/30\n",
      "29/29 [==============================] - 78s 3s/step - loss: 0.5365 - accuracy: 0.8177 - val_loss: 12.4548 - val_accuracy: 0.4755\n",
      "Epoch 3/30\n",
      "29/29 [==============================] - 78s 3s/step - loss: 0.3179 - accuracy: 0.8842 - val_loss: 18.8619 - val_accuracy: 0.4755\n",
      "Epoch 4/30\n",
      "29/29 [==============================] - 92s 3s/step - loss: 0.2529 - accuracy: 0.9175 - val_loss: 1.5121 - val_accuracy: 0.5343\n",
      "Epoch 5/30\n",
      "29/29 [==============================] - 80s 3s/step - loss: 0.2592 - accuracy: 0.9076 - val_loss: 3.3525 - val_accuracy: 0.5196\n",
      "Epoch 6/30\n",
      "29/29 [==============================] - 80s 3s/step - loss: 0.1763 - accuracy: 0.9384 - val_loss: 2.3812 - val_accuracy: 0.4755\n",
      "Epoch 7/30\n",
      "29/29 [==============================] - 85s 3s/step - loss: 0.1431 - accuracy: 0.9470 - val_loss: 4.5378 - val_accuracy: 0.4755\n",
      "Epoch 8/30\n",
      "29/29 [==============================] - 85s 3s/step - loss: 0.1207 - accuracy: 0.9532 - val_loss: 6.3913 - val_accuracy: 0.5539\n",
      "Epoch 9/30\n",
      "29/29 [==============================] - 82s 3s/step - loss: 0.1358 - accuracy: 0.9520 - val_loss: 7.1852 - val_accuracy: 0.5392\n",
      "Epoch 10/30\n",
      "29/29 [==============================] - 75s 3s/step - loss: 0.0852 - accuracy: 0.9680 - val_loss: 2.5678 - val_accuracy: 0.3971\n",
      "Epoch 11/30\n",
      "29/29 [==============================] - 77s 3s/step - loss: 0.0634 - accuracy: 0.9791 - val_loss: 9.0539 - val_accuracy: 0.4755\n",
      "Epoch 12/30\n",
      "29/29 [==============================] - 82s 3s/step - loss: 0.0721 - accuracy: 0.9741 - val_loss: 5.6932 - val_accuracy: 0.5441\n",
      "Epoch 13/30\n",
      "29/29 [==============================] - 86s 3s/step - loss: 0.0776 - accuracy: 0.9729 - val_loss: 4.7356 - val_accuracy: 0.5441\n",
      "Epoch 14/30\n",
      "29/29 [==============================] - 76s 3s/step - loss: 0.0439 - accuracy: 0.9865 - val_loss: 1.0019 - val_accuracy: 0.7010\n",
      "Epoch 15/30\n",
      "29/29 [==============================] - 83s 3s/step - loss: 0.0278 - accuracy: 0.9938 - val_loss: 1.1708 - val_accuracy: 0.7304\n",
      "Epoch 16/30\n",
      "29/29 [==============================] - 85s 3s/step - loss: 0.0310 - accuracy: 0.9914 - val_loss: 3.2343 - val_accuracy: 0.5392\n",
      "Epoch 17/30\n",
      "29/29 [==============================] - 93s 3s/step - loss: 0.0403 - accuracy: 0.9889 - val_loss: 1.0857 - val_accuracy: 0.6716\n",
      "Epoch 18/30\n",
      "29/29 [==============================] - 86s 3s/step - loss: 0.0317 - accuracy: 0.9889 - val_loss: 1.0076 - val_accuracy: 0.6471\n",
      "Epoch 19/30\n",
      "29/29 [==============================] - 92s 3s/step - loss: 0.0387 - accuracy: 0.9865 - val_loss: 1.4835 - val_accuracy: 0.5882\n",
      "Epoch 20/30\n",
      "29/29 [==============================] - 92s 3s/step - loss: 0.0317 - accuracy: 0.9914 - val_loss: 1.3357 - val_accuracy: 0.6324\n",
      "Epoch 21/30\n",
      "29/29 [==============================] - 90s 3s/step - loss: 0.0584 - accuracy: 0.9852 - val_loss: 2.5064 - val_accuracy: 0.6765\n",
      "Epoch 22/30\n",
      "29/29 [==============================] - 83s 3s/step - loss: 0.0405 - accuracy: 0.9865 - val_loss: 0.7915 - val_accuracy: 0.7745\n",
      "Epoch 23/30\n",
      "29/29 [==============================] - 87s 3s/step - loss: 0.0239 - accuracy: 0.9951 - val_loss: 1.0627 - val_accuracy: 0.7990\n",
      "Epoch 24/30\n",
      "29/29 [==============================] - 91s 3s/step - loss: 0.0109 - accuracy: 0.9938 - val_loss: 0.9418 - val_accuracy: 0.8284\n",
      "Epoch 25/30\n",
      "29/29 [==============================] - 94s 3s/step - loss: 0.0175 - accuracy: 0.9963 - val_loss: 0.8918 - val_accuracy: 0.7206\n",
      "Epoch 26/30\n",
      "29/29 [==============================] - 92s 3s/step - loss: 0.0053 - accuracy: 0.9988 - val_loss: 0.7562 - val_accuracy: 0.7745\n",
      "Epoch 27/30\n",
      "29/29 [==============================] - 88s 3s/step - loss: 4.9281e-04 - accuracy: 1.0000 - val_loss: 0.6254 - val_accuracy: 0.8039\n",
      "Epoch 28/30\n",
      "29/29 [==============================] - 82s 3s/step - loss: 2.6332e-04 - accuracy: 1.0000 - val_loss: 0.5886 - val_accuracy: 0.8235\n",
      "Epoch 29/30\n",
      "29/29 [==============================] - 86s 3s/step - loss: 2.0627e-04 - accuracy: 1.0000 - val_loss: 0.5728 - val_accuracy: 0.8382\n",
      "Epoch 30/30\n",
      "29/29 [==============================] - 89s 3s/step - loss: 1.7304e-04 - accuracy: 1.0000 - val_loss: 0.5674 - val_accuracy: 0.8578\n"
     ]
    }
   ],
   "source": [
    "history = model.fit(train_it,\n",
    "                    steps_per_epoch=train_it.n // train_it.batch_size,\n",
    "                    epochs=30, verbose=1,\n",
    "                    callbacks=None, validation_data=validate_it,\n",
    "                    validation_steps=None,\n",
    "                    class_weight=None, max_queue_size=2,\n",
    "                    workers=1, use_multiprocessing=False,\n",
    "                    shuffle=False, initial_epoch=0)\n"
   ]
  },
  {
   "cell_type": "code",
   "execution_count": 8,
   "metadata": {},
   "outputs": [
    {
     "data": {
      "text/plain": [
       "<matplotlib.axes._subplots.AxesSubplot at 0x17e77222888>"
      ]
     },
     "execution_count": 8,
     "metadata": {},
     "output_type": "execute_result"
    },
    {
     "data": {
      "image/png": "[encoded data removed]",
      "text/plain": [
       "<Figure size 432x288 with 1 Axes>"
      ]
     },
     "metadata": {
      "needs_background": "light"
     },
     "output_type": "display_data"
    }
   ],
   "source": [
    "sns.lineplot(np.linspace(1,30,30), history.history['val_accuracy'])"
   ]
  }
 ],
 "metadata": {
  "kernelspec": {
   "display_name": "Python 3",
   "language": "python",
   "name": "python3"
  },
  "language_info": {
   "codemirror_mode": {
    "name": "ipython",
    "version": 3
   },
   "file_extension": ".py",
   "mimetype": "text/x-python",
   "name": "python",
   "nbconvert_exporter": "python",
   "pygments_lexer": "ipython3",
   "version": "3.7.6"
  }
 },
 "nbformat": 4,
 "nbformat_minor": 4
}
