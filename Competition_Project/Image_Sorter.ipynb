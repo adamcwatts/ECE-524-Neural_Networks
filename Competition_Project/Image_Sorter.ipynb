{
 "cells": [
  {
   "cell_type": "code",
   "execution_count": 36,
   "metadata": {},
   "outputs": [],
   "source": [
    "import os\n",
    "import pandas as pd\n",
    "import shutil "
   ]
  },
  {
   "cell_type": "code",
   "execution_count": 33,
   "metadata": {},
   "outputs": [],
   "source": [
    "def make_classification_folders(base_dir):\n",
    "    class_list = ['0', '1', '2', '3', '4']\n",
    "    # Create target Directory if don't exist\n",
    "    \n",
    "    for classifier in class_list:\n",
    "        sub_dir = os.path.join(base_dir, classifier)\n",
    "        if not os.path.exists(sub_dir):\n",
    "            os.mkdir(sub_dir)\n",
    "            print(\"Directory \" , sub_dir ,  \" Created \")\n",
    "        else:    \n",
    "            print(\"Directory \" , sub_dir ,  \" already exists\")\n",
    "\n",
    "def move_files(base_dir, df):\n",
    "    for i in range(5):  # iterate over data frame for each classifier\n",
    "        unique_file_list = df_y[df_y.annotation == i].file_name.tolist()  # retrievs files by classification\n",
    "        \n",
    "        # Destination path  \n",
    "        destination = os.path.join(base_dir, str(i)) \n",
    "        \n",
    "        for a_file in unique_file_list:\n",
    "           # Source path  \n",
    "            source = os.path.join(base_dir, a_file)\n",
    "            dest = shutil.move(source, destination)  "
   ]
  },
  {
   "cell_type": "code",
   "execution_count": 38,
   "metadata": {},
   "outputs": [
    {
     "data": {
      "text/html": [
       "<div>\n",
       "<style scoped>\n",
       "    .dataframe tbody tr th:only-of-type {\n",
       "        vertical-align: middle;\n",
       "    }\n",
       "\n",
       "    .dataframe tbody tr th {\n",
       "        vertical-align: top;\n",
       "    }\n",
       "\n",
       "    .dataframe thead th {\n",
       "        text-align: right;\n",
       "    }\n",
       "</style>\n",
       "<table border=\"1\" class=\"dataframe\">\n",
       "  <thead>\n",
       "    <tr style=\"text-align: right;\">\n",
       "      <th></th>\n",
       "      <th>file_name</th>\n",
       "      <th>annotation</th>\n",
       "    </tr>\n",
       "  </thead>\n",
       "  <tbody>\n",
       "    <tr>\n",
       "      <th>0</th>\n",
       "      <td>000006.jpg</td>\n",
       "      <td>0</td>\n",
       "    </tr>\n",
       "    <tr>\n",
       "      <th>1</th>\n",
       "      <td>000016.jpg</td>\n",
       "      <td>0</td>\n",
       "    </tr>\n",
       "    <tr>\n",
       "      <th>2</th>\n",
       "      <td>000032.jpg</td>\n",
       "      <td>0</td>\n",
       "    </tr>\n",
       "    <tr>\n",
       "      <th>3</th>\n",
       "      <td>000097.jpg</td>\n",
       "      <td>4</td>\n",
       "    </tr>\n",
       "    <tr>\n",
       "      <th>4</th>\n",
       "      <td>000104.jpg</td>\n",
       "      <td>0</td>\n",
       "    </tr>\n",
       "    <tr>\n",
       "      <th>...</th>\n",
       "      <td>...</td>\n",
       "      <td>...</td>\n",
       "    </tr>\n",
       "    <tr>\n",
       "      <th>1020</th>\n",
       "      <td>019151.jpg</td>\n",
       "      <td>2</td>\n",
       "    </tr>\n",
       "    <tr>\n",
       "      <th>1021</th>\n",
       "      <td>019159.jpg</td>\n",
       "      <td>2</td>\n",
       "    </tr>\n",
       "    <tr>\n",
       "      <th>1022</th>\n",
       "      <td>019165.jpg</td>\n",
       "      <td>0</td>\n",
       "    </tr>\n",
       "    <tr>\n",
       "      <th>1023</th>\n",
       "      <td>019171.jpg</td>\n",
       "      <td>2</td>\n",
       "    </tr>\n",
       "    <tr>\n",
       "      <th>1024</th>\n",
       "      <td>019190.jpg</td>\n",
       "      <td>1</td>\n",
       "    </tr>\n",
       "  </tbody>\n",
       "</table>\n",
       "<p>1025 rows × 2 columns</p>\n",
       "</div>"
      ],
      "text/plain": [
       "       file_name  annotation\n",
       "0     000006.jpg           0\n",
       "1     000016.jpg           0\n",
       "2     000032.jpg           0\n",
       "3     000097.jpg           4\n",
       "4     000104.jpg           0\n",
       "...          ...         ...\n",
       "1020  019151.jpg           2\n",
       "1021  019159.jpg           2\n",
       "1022  019165.jpg           0\n",
       "1023  019171.jpg           2\n",
       "1024  019190.jpg           1\n",
       "\n",
       "[1025 rows x 2 columns]"
      ]
     },
     "execution_count": 38,
     "metadata": {},
     "output_type": "execute_result"
    }
   ],
   "source": [
    "df_y = pd.read_csv('TrainAnnotations.csv')\n",
    "df_y"
   ]
  },
  {
   "cell_type": "code",
   "execution_count": 16,
   "metadata": {},
   "outputs": [],
   "source": [
    "my_dir = os.getcwd()  # grabs current work dir\n",
    "all_file_paths = os.listdir()  # grabs all items in current work dir\n",
    "\n",
    "\n",
    "FOLDER_TO_ACCESS = 'traindata_pp_structure'\n",
    "data_path = [data for data in all_file_paths if FOLDER_TO_ACCESS in data.lower()]  # searches for data folder and retrieves\n",
    "picture_folder_path = os.path.join(my_dir, data_path[0])  # joins data folder and current work dir to get picture path\n",
    "all_pictures = os.listdir(picture_folder_path)  # list of pictures names in folder"
   ]
  },
  {
   "cell_type": "code",
   "execution_count": 22,
   "metadata": {},
   "outputs": [
    {
     "name": "stdout",
     "output_type": "stream",
     "text": [
      "Directory  C:\\Users\\adamc\\Jupyter\\ECE-524-Neural_Networks\\Competition_Project\\TrainData_PP_Structure\\0  Created \n",
      "Directory  C:\\Users\\adamc\\Jupyter\\ECE-524-Neural_Networks\\Competition_Project\\TrainData_PP_Structure\\1  Created \n",
      "Directory  C:\\Users\\adamc\\Jupyter\\ECE-524-Neural_Networks\\Competition_Project\\TrainData_PP_Structure\\2  Created \n",
      "Directory  C:\\Users\\adamc\\Jupyter\\ECE-524-Neural_Networks\\Competition_Project\\TrainData_PP_Structure\\3  Created \n",
      "Directory  C:\\Users\\adamc\\Jupyter\\ECE-524-Neural_Networks\\Competition_Project\\TrainData_PP_Structure\\4  Created \n"
     ]
    }
   ],
   "source": [
    "make_classification_folders(picture_folder_path)"
   ]
  },
  {
   "cell_type": "code",
   "execution_count": 37,
   "metadata": {},
   "outputs": [],
   "source": [
    "move_files(picture_folder_path, df_y)"
   ]
  }
 ],
 "metadata": {
  "kernelspec": {
   "display_name": "Python 3",
   "language": "python",
   "name": "python3"
  },
  "language_info": {
   "codemirror_mode": {
    "name": "ipython",
    "version": 3
   },
   "file_extension": ".py",
   "mimetype": "text/x-python",
   "name": "python",
   "nbconvert_exporter": "python",
   "pygments_lexer": "ipython3",
   "version": "3.7.6"
  }
 },
 "nbformat": 4,
 "nbformat_minor": 4
}
