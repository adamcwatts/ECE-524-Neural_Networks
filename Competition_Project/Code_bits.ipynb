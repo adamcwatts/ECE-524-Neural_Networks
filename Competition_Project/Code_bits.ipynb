{
 "cells": [
  {
   "cell_type": "code",
   "execution_count": 24,
   "metadata": {},
   "outputs": [],
   "source": [
    "import os\n",
    "import tensorflow as tf\n",
    "from tensorflow import keras\n",
    "from tensorflow.keras.preprocessing.image import load_img, img_to_array, ImageDataGenerator, array_to_img, save_img"
   ]
  },
  {
   "cell_type": "code",
   "execution_count": null,
   "metadata": {},
   "outputs": [],
   "source": [
    "my_dir = os.getcwd()  # grabs current work dir\n",
    "all_file_paths = os.listdir()  # grabs all items in current work dir\n",
    "\n",
    "test_data_path = [data for data in all_file_paths if 'testdata' in data.lower()]  # searches for data folder and retrieves\n",
    "\n",
    "\n",
    "\n",
    "test_picture_folder_path = os.path.join(my_dir, test_data_path[0])  # joins data folder and current work dir to get picture path\n",
    "\n",
    "all_test_pictures = os.listdir(test_picture_folder_path)  # list of pictures names in folder\n",
    "\n",
    "\n",
    "\n",
    "test_picture_complete_path = [os.path.join(test_picture_folder_path, pic) for pic in\n",
    "                         all_test_pictures]  # complete path to each picture\n",
    "\n",
    "\n",
    "test_pic_path = os.path.join(my_dir, \"TestData\")  \n"
   ]
  },
  {
   "cell_type": "code",
   "execution_count": null,
   "metadata": {},
   "outputs": [],
   "source": [
    "rgb_scale_photos = [load_img(photo, color_mode='rgb') for photo in test_picture_complete_path] # RGB\n",
    "array_message = '*' * 15 + ' Converting Images to Arrays ' + '*' * 15\n",
    "print(array_message)\n",
    "\n",
    "\n",
    "array_photo_list = [img_to_array(photo) for photo in rgb_scale_photos] # RGB\n",
    "del rgb_scale_photos\n",
    "\n",
    "X_test_all = np.asarray(array_photo_list)\n",
    "X_test_all[:, :,:,0] /= 255.0  # normalizes images\n",
    "del array_photo_list"
   ]
  },
  {
   "cell_type": "code",
   "execution_count": null,
   "metadata": {},
   "outputs": [],
   "source": [
    "test_results = model.predict(X_test_all)"
   ]
  },
  {
   "cell_type": "code",
   "execution_count": null,
   "metadata": {},
   "outputs": [],
   "source": []
  },
  {
   "cell_type": "code",
   "execution_count": 25,
   "metadata": {},
   "outputs": [],
   "source": [
    "model.save('my_1000dense.h5')  # creates a HDF5 file 'my_model.h5'\n"
   ]
  }
 ],
 "metadata": {
  "kernelspec": {
   "display_name": "Python 3",
   "language": "python",
   "name": "python3"
  },
  "language_info": {
   "codemirror_mode": {
    "name": "ipython",
    "version": 3
   },
   "file_extension": ".py",
   "mimetype": "text/x-python",
   "name": "python",
   "nbconvert_exporter": "python",
   "pygments_lexer": "ipython3",
   "version": "3.7.5"
  }
 },
 "nbformat": 4,
 "nbformat_minor": 4
}
